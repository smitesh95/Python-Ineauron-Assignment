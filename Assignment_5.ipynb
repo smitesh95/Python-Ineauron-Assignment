{
 "cells": [
  {
   "cell_type": "code",
   "execution_count": null,
   "metadata": {},
   "outputs": [],
   "source": [
    "1. Write a Python Program to Find LCM?"
   ]
  },
  {
   "cell_type": "code",
   "execution_count": 2,
   "metadata": {},
   "outputs": [
    {
     "name": "stdout",
     "output_type": "stream",
     "text": [
      "Enter first number : 24\n",
      "Enter second number : 36\n",
      "LCM of 24 and 36 is 72 \n"
     ]
    }
   ],
   "source": [
    "def LCM():\n",
    "    n1=int(input(\"Enter first number : \"))\n",
    "    n2=int(input(\"Enter second number : \"))\n",
    "    if n1>n2:\n",
    "        higher=n1\n",
    "    else:\n",
    "        higher=n2\n",
    "    value=higher\n",
    "    while True:\n",
    "        if higher%n1==0 and higher%n2==0:\n",
    "            print(\"LCM of {} and {} is {} \".format(n1,n2,higher))\n",
    "            break\n",
    "        else:\n",
    "            higher=higher+value\n",
    "LCM()"
   ]
  },
  {
   "cell_type": "code",
   "execution_count": null,
   "metadata": {},
   "outputs": [],
   "source": [
    "2. Write a Python Program to Find HCF?"
   ]
  },
  {
   "cell_type": "code",
   "execution_count": 5,
   "metadata": {},
   "outputs": [
    {
     "name": "stdout",
     "output_type": "stream",
     "text": [
      "Enter first number : 2\n",
      "Enter second number : 4\n",
      "2\n"
     ]
    }
   ],
   "source": [
    "def HCF(a,b):\n",
    "    if b==0:\n",
    "        return a\n",
    "    else:\n",
    "        return HCF(b,a%b)\n",
    "a=int(input(\"Enter first number : \"))\n",
    "b=int(input(\"Enter second number : \"))\n",
    "print(HCF(a,b))"
   ]
  },
  {
   "cell_type": "code",
   "execution_count": null,
   "metadata": {},
   "outputs": [],
   "source": [
    "3. Write a Python Program to Convert Decimal to Binary, Octal and Hexadecimal?"
   ]
  },
  {
   "cell_type": "code",
   "execution_count": 7,
   "metadata": {},
   "outputs": [
    {
     "name": "stdout",
     "output_type": "stream",
     "text": [
      "Enter number : 26\n",
      "Decimal to Binary is :  0b11010\n",
      "Decimal to Octal is :  0o32\n",
      "Decimal to Hexadecimal is :  0x1a\n"
     ]
    }
   ],
   "source": [
    "def convert():\n",
    "    num=int(input(\"Enter number : \"))\n",
    "    print(\"Decimal to Binary is : \",bin(num))\n",
    "    print(\"Decimal to Octal is : \",oct(num))\n",
    "    print(\"Decimal to Hexadecimal is : \",hex(num))\n",
    "convert()"
   ]
  },
  {
   "cell_type": "code",
   "execution_count": null,
   "metadata": {},
   "outputs": [],
   "source": [
    "4. Write a Python Program To Find ASCII value of a character?"
   ]
  },
  {
   "cell_type": "code",
   "execution_count": 17,
   "metadata": {},
   "outputs": [
    {
     "name": "stdout",
     "output_type": "stream",
     "text": [
      "Enter characterw\n",
      "ASCII value is w is 119 \n"
     ]
    }
   ],
   "source": [
    "a=input(\"Enter character\")\n",
    "print(\"ASCII value is {} is {} \".format(a,ord(a)))\n"
   ]
  },
  {
   "cell_type": "code",
   "execution_count": null,
   "metadata": {},
   "outputs": [],
   "source": [
    "5. Write a Python Program to Make a Simple Calculator with 4 basic mathematical operations?"
   ]
  },
  {
   "cell_type": "code",
   "execution_count": 24,
   "metadata": {},
   "outputs": [
    {
     "name": "stdout",
     "output_type": "stream",
     "text": [
      "Addition of two number is :  30\n",
      "Suntraction of two number is : -10\n",
      "Multiplication of two number is :  200\n",
      "Division of two number is :  0.5\n"
     ]
    }
   ],
   "source": [
    "class calc:\n",
    "    def __init__(self,a,b):\n",
    "        self.a=a\n",
    "        self.b=b\n",
    "    def add(self):\n",
    "        c=self.a+self.b\n",
    "        print(\"Addition of two number is : \",c)\n",
    "    def sub(self):\n",
    "        c=self.a-self.b\n",
    "        print(\"Suntraction of two number is :\",c)\n",
    "    def mul(self):\n",
    "        c=self.a*self.b\n",
    "        print(\"Multiplication of two number is : \",c)\n",
    "    def div(self):\n",
    "        c=self.a/self.b\n",
    "        print(\"Division of two number is : \",c)\n",
    "c=calc(10,20)\n",
    "c.add()\n",
    "c.sub()\n",
    "c.mul()\n",
    "c.div()"
   ]
  }
 ],
 "metadata": {
  "kernelspec": {
   "display_name": "Python 3",
   "language": "python",
   "name": "python3"
  },
  "language_info": {
   "codemirror_mode": {
    "name": "ipython",
    "version": 3
   },
   "file_extension": ".py",
   "mimetype": "text/x-python",
   "name": "python",
   "nbconvert_exporter": "python",
   "pygments_lexer": "ipython3",
   "version": "3.8.5"
  }
 },
 "nbformat": 4,
 "nbformat_minor": 4
}
