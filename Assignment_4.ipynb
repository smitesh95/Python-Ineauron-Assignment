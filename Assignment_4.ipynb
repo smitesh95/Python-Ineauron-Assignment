{
 "cells": [
  {
   "cell_type": "code",
   "execution_count": null,
   "metadata": {},
   "outputs": [],
   "source": [
    "1.Write a Python Program to Find the Factorial of a Number?"
   ]
  },
  {
   "cell_type": "code",
   "execution_count": 2,
   "metadata": {},
   "outputs": [
    {
     "data": {
      "text/plain": [
       "24"
      ]
     },
     "execution_count": 2,
     "metadata": {},
     "output_type": "execute_result"
    }
   ],
   "source": [
    "def fact(n):\n",
    "    if(n==0 or n==1):#Base case\n",
    "        return 1\n",
    "    else:\n",
    "        return n*fact(n-1)#Recursive case\n",
    "\n",
    "fact(4)"
   ]
  },
  {
   "cell_type": "code",
   "execution_count": null,
   "metadata": {},
   "outputs": [],
   "source": [
    "2.Write a Python Program to Display the multiplication Table?"
   ]
  },
  {
   "cell_type": "code",
   "execution_count": 7,
   "metadata": {},
   "outputs": [
    {
     "name": "stdout",
     "output_type": "stream",
     "text": [
      "Enter the number for table : 2\n",
      "2 * 1 = 2 \n",
      "2 * 2 = 4 \n",
      "2 * 3 = 6 \n",
      "2 * 4 = 8 \n",
      "2 * 5 = 10 \n",
      "2 * 6 = 12 \n",
      "2 * 7 = 14 \n",
      "2 * 8 = 16 \n",
      "2 * 9 = 18 \n",
      "2 * 10 = 20 \n"
     ]
    }
   ],
   "source": [
    "def table():\n",
    "    a=int(input(\"Enter the number for table : \"))\n",
    "    for i in range(1,11):\n",
    "        print(\"{} * {} = {} \".format(a,i,a*i))\n",
    "table()"
   ]
  },
  {
   "cell_type": "code",
   "execution_count": null,
   "metadata": {},
   "outputs": [],
   "source": [
    "3.Write a Python Program to Print the Fibonacci sequence?\n"
   ]
  },
  {
   "cell_type": "code",
   "execution_count": 16,
   "metadata": {},
   "outputs": [
    {
     "name": "stdout",
     "output_type": "stream",
     "text": [
      "0\n",
      "1\n",
      "1\n",
      "2\n",
      "3\n",
      "5\n",
      "8\n"
     ]
    }
   ],
   "source": [
    "a=0\n",
    "b=1\n",
    "print(a)\n",
    "print(b)\n",
    "for i in range(2,7):\n",
    "    c=a+b\n",
    "    a=b\n",
    "    b=c\n",
    "    print(c)"
   ]
  },
  {
   "cell_type": "code",
   "execution_count": null,
   "metadata": {},
   "outputs": [],
   "source": [
    "4. Write a Python Program to Check Armstrong Number?"
   ]
  },
  {
   "cell_type": "code",
   "execution_count": 39,
   "metadata": {},
   "outputs": [
    {
     "name": "stdout",
     "output_type": "stream",
     "text": [
      "It is armstrong number\n"
     ]
    }
   ],
   "source": [
    "n=153\n",
    "#print(n)\n",
    "convert=str(n)\n",
    "#print(len(convert))\n",
    "power=int(len(convert))\n",
    "#print(power)\n",
    "add=[]\n",
    "for i in convert:\n",
    "    c=int(i) ** power\n",
    "    add.append(c)\n",
    "#print(add)\n",
    "#print(sum(add))\n",
    "if n==(sum(add)):\n",
    "    print(\"It is armstrong number\")\n",
    "else:\n",
    "    print(\"It is not armstrong number\")\n",
    "\n",
    "    "
   ]
  },
  {
   "cell_type": "code",
   "execution_count": null,
   "metadata": {},
   "outputs": [],
   "source": [
    "5. Write a Python Program to Find Armstrong Number in an Interval?"
   ]
  },
  {
   "cell_type": "code",
   "execution_count": 44,
   "metadata": {},
   "outputs": [
    {
     "name": "stdout",
     "output_type": "stream",
     "text": [
      "0 It is armstrong number\n",
      "1 It is armstrong number\n",
      "2 It is armstrong number\n",
      "3 It is armstrong number\n",
      "4 It is armstrong number\n",
      "5 It is armstrong number\n",
      "6 It is armstrong number\n",
      "7 It is armstrong number\n",
      "8 It is armstrong number\n",
      "9 It is armstrong number\n",
      "153 It is armstrong number\n"
     ]
    }
   ],
   "source": [
    "for i in range(154):\n",
    "    num=i\n",
    "    convert=str(num)\n",
    "    power=int(len(convert))\n",
    "    add=[]\n",
    "    for i in convert:\n",
    "        c=int(i) ** power\n",
    "        add.append(c)\n",
    "    if num==(sum(add)):\n",
    "        print(\"{} It is armstrong number\" .format(num))\n",
    "    else:\n",
    "        pass\n",
    "        #print(\"{} It is not armstrong number\".format(num))\n",
    "\n",
    "    \n",
    "    "
   ]
  },
  {
   "cell_type": "code",
   "execution_count": null,
   "metadata": {},
   "outputs": [],
   "source": [
    "6. Write a Python Program to Find the Sum of Natural Numbers?"
   ]
  },
  {
   "cell_type": "code",
   "execution_count": 55,
   "metadata": {},
   "outputs": [
    {
     "name": "stdout",
     "output_type": "stream",
     "text": [
      "Enter number: 4\n",
      "Sum of natural number is :10 \n"
     ]
    }
   ],
   "source": [
    "list=[]\n",
    "n=int(input(\"Enter number: \"))\n",
    "for i in range(0,n+1):\n",
    "    list.append(i)\n",
    "            \n",
    "print(\"Sum of natural number is :{} \".format(sum(list)))\n",
    "    \n",
    "    "
   ]
  }
 ],
 "metadata": {
  "kernelspec": {
   "display_name": "Python 3",
   "language": "python",
   "name": "python3"
  },
  "language_info": {
   "codemirror_mode": {
    "name": "ipython",
    "version": 3
   },
   "file_extension": ".py",
   "mimetype": "text/x-python",
   "name": "python",
   "nbconvert_exporter": "python",
   "pygments_lexer": "ipython3",
   "version": "3.8.5"
  }
 },
 "nbformat": 4,
 "nbformat_minor": 4
}
