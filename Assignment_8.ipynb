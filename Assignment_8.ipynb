{
 "cells": [
  {
   "cell_type": "code",
   "execution_count": null,
   "metadata": {},
   "outputs": [],
   "source": [
    "1. Write a Python Program to Add Two Matrices?"
   ]
  },
  {
   "cell_type": "code",
   "execution_count": 9,
   "metadata": {},
   "outputs": [
    {
     "name": "stdout",
     "output_type": "stream",
     "text": [
      "[[2, 4], [6, 8]]\n"
     ]
    }
   ],
   "source": [
    "a=[\n",
    "    [1,2],\n",
    "    [3,4]\n",
    "]\n",
    "a\n",
    "\n",
    "b=[\n",
    "    [1,2],\n",
    "    [3,4]\n",
    "  ]\n",
    "b\n",
    "sum=[]\n",
    "for i in range(len(a)):\n",
    "    t=[]\n",
    "    for j in range(len(b)):\n",
    "        val=a[i][j]+b[i][j]\n",
    "        t.append(val)\n",
    "    sum.append(t)\n",
    "print(sum)"
   ]
  },
  {
   "cell_type": "code",
   "execution_count": null,
   "metadata": {},
   "outputs": [],
   "source": [
    "2. Write a Python Program to Multiply Two Matrices?"
   ]
  },
  {
   "cell_type": "code",
   "execution_count": 10,
   "metadata": {},
   "outputs": [
    {
     "name": "stdout",
     "output_type": "stream",
     "text": [
      "[[1, 4], [9, 16]]\n"
     ]
    }
   ],
   "source": [
    "a=[\n",
    "    [1,2],\n",
    "    [3,4]\n",
    "]\n",
    "a\n",
    "\n",
    "b=[\n",
    "    [1,2],\n",
    "    [3,4]\n",
    "  ]\n",
    "b\n",
    "sum=[]\n",
    "for i in range(len(a)):\n",
    "    t=[]\n",
    "    for j in range(len(b)):\n",
    "        val=a[i][j]*b[i][j]\n",
    "        t.append(val)\n",
    "    sum.append(t)\n",
    "print(sum)"
   ]
  },
  {
   "cell_type": "code",
   "execution_count": null,
   "metadata": {},
   "outputs": [],
   "source": [
    "3. Write a Python Program to Transpose a Matrix?"
   ]
  },
  {
   "cell_type": "code",
   "execution_count": 18,
   "metadata": {},
   "outputs": [
    {
     "data": {
      "text/plain": [
       "matrix([[1],\n",
       "        [2],\n",
       "        [3],\n",
       "        [4],\n",
       "        [5]])"
      ]
     },
     "execution_count": 18,
     "metadata": {},
     "output_type": "execute_result"
    }
   ],
   "source": [
    "import numpy as np\n",
    "a=np.matrix([1,2,3,4,5])\n",
    "a.T"
   ]
  },
  {
   "cell_type": "code",
   "execution_count": null,
   "metadata": {},
   "outputs": [],
   "source": [
    "4. Write a Python Program to Sort Words in Alphabetic Order?"
   ]
  },
  {
   "cell_type": "code",
   "execution_count": 39,
   "metadata": {},
   "outputs": [
    {
     "name": "stdout",
     "output_type": "stream",
     "text": [
      "Good\n",
      "Hello\n",
      "Morning\n",
      "World\n"
     ]
    }
   ],
   "source": [
    "my_str = \"Hello World Good Morning\"  \n",
    "words = my_str.split()   \n",
    "words.sort()  \n",
    "for word in words:  \n",
    "   print(word)  "
   ]
  },
  {
   "cell_type": "code",
   "execution_count": null,
   "metadata": {},
   "outputs": [],
   "source": [
    "5. Write a Python Program to Remove Punctuation From a String?"
   ]
  },
  {
   "cell_type": "code",
   "execution_count": 4,
   "metadata": {},
   "outputs": [
    {
     "name": "stdout",
     "output_type": "stream",
     "text": [
      "Enter words with punctuations!@ss\n",
      "ss\n"
     ]
    }
   ],
   "source": [
    "punctuations = '''!()-[]{};:'\"\\,<>./?@#$%^&*_~'''\n",
    "word=input(\"Enter words with punctuations\")\n",
    "a=\"\"\n",
    "for i in word:\n",
    "    if i in punctuations:\n",
    "        pass\n",
    "    else:\n",
    "        a=a+i\n",
    "        \n",
    "    \n",
    "    \n",
    "print(a)\n",
    "    \n",
    "        "
   ]
  }
 ],
 "metadata": {
  "kernelspec": {
   "display_name": "Python 3",
   "language": "python",
   "name": "python3"
  },
  "language_info": {
   "codemirror_mode": {
    "name": "ipython",
    "version": 3
   },
   "file_extension": ".py",
   "mimetype": "text/x-python",
   "name": "python",
   "nbconvert_exporter": "python",
   "pygments_lexer": "ipython3",
   "version": "3.8.5"
  }
 },
 "nbformat": 4,
 "nbformat_minor": 4
}
